{
  "nbformat": 4,
  "nbformat_minor": 0,
  "metadata": {
    "colab": {
      "provenance": []
    },
    "kernelspec": {
      "name": "python3",
      "display_name": "Python 3"
    },
    "language_info": {
      "name": "python"
    }
  },
  "cells": [
    {
      "cell_type": "code",
      "source": [
        "from sklearn.cluster import KMeans\n",
        "from sklearn import datasets\n",
        "from sklearn.utils import shuffle\n",
        "from matplotlib import pyplot as plt"
      ],
      "metadata": {
        "id": "nsS17jjTdC8T"
      },
      "execution_count": null,
      "outputs": []
    },
    {
      "cell_type": "code",
      "source": [
        "iris = datasets.load_iris()\n",
        "X = iris.data\n",
        "y = iris.target\n",
        "names = iris.feature_names\n",
        "X, y = shuffle(X, y, random_state=42)"
      ],
      "metadata": {
        "id": "J2IT63ckdHCR"
      },
      "execution_count": null,
      "outputs": []
    },
    {
      "cell_type": "code",
      "source": [
        "model = KMeans(n_clusters=3, random_state=42)\n",
        "iris_kmeans = model.fit(X)"
      ],
      "metadata": {
        "id": "ebqBcWFVdJC6"
      },
      "execution_count": null,
      "outputs": []
    },
    {
      "cell_type": "code",
      "source": [
        "from sklearn.metrics import confusion_matrix\n",
        "conf_matrix=confusion_matrix(y, iris_kmeans.labels_)"
      ],
      "metadata": {
        "id": "KaRWDKALdL1R"
      },
      "execution_count": null,
      "outputs": []
    },
    {
      "cell_type": "code",
      "source": [
        "y_pred = iris_kmeans.predict(X)\n",
        "cm=confusion_matrix(y, y_pred)\n",
        "print(cm)"
      ],
      "metadata": {
        "id": "xGkjeOzMbzEt"
      },
      "execution_count": null,
      "outputs": []
    },
    {
      "cell_type": "code",
      "source": [
        "fig, ax = plt.subplots()\n",
        "ax.matshow(conf_matrix, cmap=plt.cm.Blues, alpha=0.3)\n",
        "for i in range(conf_matrix.shape[0]):\n",
        "    for j in range(conf_matrix.shape[1]):\n",
        "        ax.text(x=j, y=i,s=conf_matrix[i, j], va='center',\n",
        "                ha='center', size='xx-large')\n",
        "\n",
        "plt.xlabel('Predictions', fontsize=18)\n",
        "plt.ylabel('Actuals', fontsize=18)\n",
        "plt.title('Confusion Matrix', fontsize=18)\n",
        "plt.show()"
      ],
      "metadata": {
        "id": "lbbDdo_1dOnQ"
      },
      "execution_count": null,
      "outputs": []
    },
    {
      "cell_type": "code",
      "execution_count": null,
      "metadata": {
        "id": "nS0D5IEpc0A1"
      },
      "outputs": [],
      "source": [
        "iris_kmeans.cluster_centers_\n",
        "\n",
        "fig = plt.figure(figsize=(12, 8))\n",
        "ax1 = fig.add_subplot(1, 2, 1, projection='3d')\n",
        "ax1.scatter(X[:, 3], X[:, 0], X[:, 2], c=iris_kmeans.labels_.astype(float), edgecolor=\"k\", s=150)\n",
        "ax1.view_init(20, -50)\n",
        "ax1.set_xlabel(names[3], fontsize=12)\n",
        "ax1.set_ylabel(names[0], fontsize=12)\n",
        "ax1.set_zlabel(names[2], fontsize=12)\n",
        "ax1.set_title(\"K-Means Clusters for the Iris Dataset\", fontsize=12)\n",
        "\n",
        "ax2 = fig.add_subplot(1, 2, 2, projection='3d')\n",
        "\n",
        "for label, name in enumerate(['virginica','setosa','versicolor']):\n",
        "    ax2.text3D(\n",
        "        X[y == label, 3].mean(),\n",
        "        X[y == label, 0].mean(),\n",
        "        X[y == label, 2].mean() + 2,\n",
        "        name,\n",
        "        horizontalalignment=\"center\",\n",
        "        bbox=dict(alpha=0.2, edgecolor=\"w\", facecolor=\"w\"),)\n",
        "\n",
        "ax2.scatter(X[:, 3], X[:, 0], X[:, 2], c=y, edgecolor=\"k\", s=150)\n",
        "ax2.view_init(20, -50)\n",
        "ax2.set_xlabel(names[3], fontsize=12)\n",
        "ax2.set_ylabel(names[0], fontsize=12)\n",
        "ax2.set_zlabel(names[2], fontsize=12)\n",
        "ax2.set_title(\"Actual Labels for the Iris Dataset\", fontsize=12)\n",
        "fig.show()\n"
      ]
    }
  ]
}