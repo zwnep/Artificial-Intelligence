{
 "cells": [
  {
   "cell_type": "code",
   "execution_count": 4,
   "id": "397b4a1b",
   "metadata": {},
   "outputs": [],
   "source": [
    "import pandas as pd\n",
    "import numpy as np\n",
    "from sklearn.preprocessing import MinMaxScaler\n",
    "from sklearn.model_selection import train_test_split\n",
    "from sklearn.linear_model import LogisticRegression\n",
    "from sklearn.discriminant_analysis import LinearDiscriminantAnalysis\n",
    "from sklearn.model_selection import train_test_split\n",
    "from sklearn.neural_network import MLPClassifier\n",
    "from sklearn.neighbors import KNeighborsClassifier\n",
    "from sklearn.svm import SVC\n",
    "from sklearn.gaussian_process import GaussianProcessClassifier\n",
    "from sklearn.gaussian_process.kernels import RBF\n",
    "from sklearn.tree import DecisionTreeClassifier\n",
    "from sklearn.ensemble import  AdaBoostClassifier \n",
    "from sklearn.naive_bayes import GaussianNB"
   ]
  },
  {
   "cell_type": "code",
   "execution_count": 5,
   "id": "53cae3b4",
   "metadata": {},
   "outputs": [],
   "source": [
    "# !pip install import_ipynb\n",
    "# Başka notebook'u özelliklerini kullanmak için"
   ]
  },
  {
   "cell_type": "code",
   "execution_count": 6,
   "id": "a37b89ef",
   "metadata": {},
   "outputs": [
    {
     "name": "stdout",
     "output_type": "stream",
     "text": [
      "importing Jupyter notebook from data_EDA.ipynb\n"
     ]
    },
    {
     "data": {
      "image/png": "[encoded data removed]",
      "text/plain": [
       "<Figure size 640x480 with 1 Axes>"
      ]
     },
     "metadata": {},
     "output_type": "display_data"
    },
    {
     "name": "stdout",
     "output_type": "stream",
     "text": [
      "0       True\n",
      "1       True\n",
      "2       True\n",
      "3      False\n",
      "4      False\n",
      "       ...  \n",
      "390    False\n",
      "391    False\n",
      "392     True\n",
      "393    False\n",
      "394    False\n",
      "Name: sınavToplam, Length: 395, dtype: bool\n"
     ]
    },
    {
     "data": {
      "image/png": "[encoded data removed]",
      "text/plain": [
       "<Figure size 640x480 with 1 Axes>"
      ]
     },
     "metadata": {},
     "output_type": "display_data"
    }
   ],
   "source": [
    "import import_ipynb\n",
    "from data_EDA import trainInput, trainOutput, validationInput, validationOutput"
   ]
  },
  {
   "cell_type": "code",
   "execution_count": 7,
   "id": "258dddf4",
   "metadata": {},
   "outputs": [],
   "source": [
    "#!pip install imbalanced-learn"
   ]
  },
  {
   "cell_type": "code",
   "execution_count": 8,
   "id": "3035214a",
   "metadata": {},
   "outputs": [],
   "source": [
    "#!pip install --upgrade scikit-learn"
   ]
  },
  {
   "cell_type": "code",
   "execution_count": 9,
   "id": "97b31f19-6eee-4086-802f-48980d49ed72",
   "metadata": {},
   "outputs": [],
   "source": [
    "#!pip install -U scikit-learn"
   ]
  },
  {
   "cell_type": "code",
   "execution_count": 10,
   "id": "b2d10d40",
   "metadata": {},
   "outputs": [],
   "source": [
    "from imblearn import over_sampling"
   ]
  },
  {
   "cell_type": "code",
   "execution_count": 11,
   "id": "a27f9be0",
   "metadata": {},
   "outputs": [
    {
     "name": "stdout",
     "output_type": "stream",
     "text": [
      "(316, 22)\n"
     ]
    }
   ],
   "source": [
    "print(trainInput.shape)"
   ]
  },
  {
   "cell_type": "code",
   "execution_count": 12,
   "id": "c9abdc88-4695-4579-a892-960ca9889ea5",
   "metadata": {},
   "outputs": [],
   "source": [
    "smote = over_sampling.SMOTE(random_state = 7)\n",
    "smoteTrainInput, somteTrainOutput = smote.fit_resample(trainInput, trainOutput)\n",
    "#print(smoteTrainInput.shape)"
   ]
  },
  {
   "cell_type": "code",
   "execution_count": 13,
   "id": "c677f48a-8c9b-4fa2-86a4-9b2f582929c3",
   "metadata": {},
   "outputs": [],
   "source": [
    "# Sentetik Veri Üretimi"
   ]
  },
  {
   "cell_type": "code",
   "execution_count": 14,
   "id": "bcb1c076",
   "metadata": {},
   "outputs": [],
   "source": [
    "#ros = over_sampling.RandomOverSampler()\n",
    "#rosTrainInput, rosTrainOutput = ros.fit_resample(trainInput, trainOutput)\n",
    "#print(rosTrainInput.shape)"
   ]
  },
  {
   "cell_type": "code",
   "execution_count": 15,
   "id": "227efc87",
   "metadata": {},
   "outputs": [],
   "source": [
    "#smote = over_sampling.SMOTE()\n",
    "#smoteTrainInput, somteTrainOutput = smote.fit_resample(trainInput, trainOutput)\n",
    "#print(smoteTrainInput.shape)"
   ]
  },
  {
   "cell_type": "code",
   "execution_count": 16,
   "id": "2a02d827-3207-4315-bb54-4a9d6332e498",
   "metadata": {},
   "outputs": [],
   "source": [
    "#adasyn = over_sampling.ADASYN(sampling_strategy = \"minority\")\n",
    "#adaTrainInput, adaTrainOutput = adasyn.fit_resample(trainInput, trainOutput)\n",
    "#print(adaTrainInput.shape)"
   ]
  },
  {
   "cell_type": "code",
   "execution_count": 17,
   "id": "4698acad",
   "metadata": {},
   "outputs": [],
   "source": [
    "# Algoritmaları ekleme\n",
    "\n",
    "models = []\n",
    "models.append((\"LR\",LogisticRegression()))\n",
    "models.append((\"LDA\",LinearDiscriminantAnalysis()))\n",
    "models.append((\"KNN\",KNeighborsClassifier()))\n",
    "models.append((\"DCT\",DecisionTreeClassifier()))\n",
    "models.append((\"GNB\",GaussianNB()))\n",
    "models.append((\"SVC\",SVC()))\n",
    "models.append((\"GPC\",GaussianProcessClassifier(1.0*RBF(1.0))))\n",
    "models.append((\"MLP\",MLPClassifier()))\n",
    "models.append((\"ADB\",AdaBoostClassifier()))"
   ]
  },
  {
   "cell_type": "code",
   "execution_count": 18,
   "id": "fd877df7",
   "metadata": {},
   "outputs": [
    {
     "name": "stdout",
     "output_type": "stream",
     "text": [
      "LR :\n",
      "Orijinal:  0.5822784810126582 Val - Orijinal:  0.46835443037974683\n",
      "Ros:  0.5822784810126582 Val - Ros:  0.46835443037974683\n",
      "Smote:  0.5822784810126582 Val - Smote:  0.46835443037974683\n",
      "Adasyn:  0.5822784810126582 Val - Adasyn:  0.46835443037974683\n",
      "-----------------------------------------------------\n",
      "LDA :\n",
      "Orijinal:  0.5759493670886076 Val - Orijinal:  0.46835443037974683\n",
      "Ros:  0.5759493670886076 Val - Ros:  0.46835443037974683\n",
      "Smote:  0.5759493670886076 Val - Smote:  0.46835443037974683\n",
      "Adasyn:  0.5759493670886076 Val - Adasyn:  0.46835443037974683\n",
      "-----------------------------------------------------\n",
      "KNN :\n",
      "Orijinal:  0.6234177215189873 Val - Orijinal:  0.4810126582278481\n",
      "Ros:  0.6234177215189873 Val - Ros:  0.4810126582278481\n",
      "Smote:  0.6234177215189873 Val - Smote:  0.4810126582278481\n",
      "Adasyn:  0.6234177215189873 Val - Adasyn:  0.4810126582278481\n",
      "-----------------------------------------------------\n",
      "DCT :\n",
      "Orijinal:  1.0 Val - Orijinal:  0.35443037974683544\n",
      "Ros:  1.0 Val - Ros:  0.35443037974683544\n",
      "Smote:  1.0 Val - Smote:  0.35443037974683544\n",
      "Adasyn:  1.0 Val - Adasyn:  0.35443037974683544\n",
      "-----------------------------------------------------\n",
      "GNB :\n",
      "Orijinal:  0.5443037974683544 Val - Orijinal:  0.4936708860759494\n",
      "Ros:  0.5443037974683544 Val - Ros:  0.4936708860759494\n",
      "Smote:  0.5443037974683544 Val - Smote:  0.4936708860759494\n",
      "Adasyn:  0.5443037974683544 Val - Adasyn:  0.4936708860759494\n",
      "-----------------------------------------------------\n",
      "SVC :\n",
      "Orijinal:  0.7151898734177216 Val - Orijinal:  0.5316455696202531\n",
      "Ros:  0.7151898734177216 Val - Ros:  0.5316455696202531\n",
      "Smote:  0.7151898734177216 Val - Smote:  0.5316455696202531\n",
      "Adasyn:  0.7151898734177216 Val - Adasyn:  0.5316455696202531\n",
      "-----------------------------------------------------\n",
      "GPC :\n",
      "Orijinal:  0.6487341772151899 Val - Orijinal:  0.5063291139240507\n",
      "Ros:  0.6487341772151899 Val - Ros:  0.5063291139240507\n",
      "Smote:  0.6487341772151899 Val - Smote:  0.5063291139240507\n",
      "Adasyn:  0.6487341772151899 Val - Adasyn:  0.5063291139240507\n",
      "-----------------------------------------------------\n",
      "MLP :\n",
      "Orijinal:  0.740506329113924 Val - Orijinal:  0.5063291139240507\n",
      "Ros:  0.740506329113924 Val - Ros:  0.5063291139240507\n",
      "Smote:  0.740506329113924 Val - Smote:  0.5063291139240507\n",
      "Adasyn:  0.740506329113924 Val - Adasyn:  0.5063291139240507\n",
      "-----------------------------------------------------\n",
      "ADB :\n",
      "Orijinal:  0.5506329113924051 Val - Orijinal:  0.46835443037974683\n",
      "Ros:  0.5506329113924051 Val - Ros:  0.46835443037974683\n",
      "Smote:  0.5506329113924051 Val - Smote:  0.46835443037974683\n",
      "Adasyn:  0.5506329113924051 Val - Adasyn:  0.46835443037974683\n",
      "-----------------------------------------------------\n"
     ]
    },
    {
     "name": "stderr",
     "output_type": "stream",
     "text": [
      "/Users/zeynepdemirtas/anaconda3/lib/python3.11/site-packages/sklearn/neural_network/_multilayer_perceptron.py:691: ConvergenceWarning: Stochastic Optimizer: Maximum iterations (200) reached and the optimization hasn't converged yet.\n",
      "  warnings.warn(\n",
      "/Users/zeynepdemirtas/anaconda3/lib/python3.11/site-packages/sklearn/ensemble/_weight_boosting.py:519: FutureWarning: The SAMME.R algorithm (the default) is deprecated and will be removed in 1.6. Use the SAMME algorithm to circumvent this warning.\n",
      "  warnings.warn(\n"
     ]
    }
   ],
   "source": [
    "for name, model in models:\n",
    "    trainedModel = model.fit(trainInput, trainOutput)\n",
    "    #trainedModelRos = model.fit(rosTrainInput, rosTrainOutput)\n",
    "    #trainedModelSmote = model.fit(smoteTrainInput, somteTrainOutput)\n",
    "    #trainedModelAdasyn = model.fit(adaTrainInput, adaTrainOutput)\n",
    "\n",
    "    modelScore = trainedModel.score(trainInput, trainOutput)\n",
    "    #modelScoreRos = trainedModelRos.score(trainInput, trainOutput)\n",
    "    #modelScoreSmote = trainedModelSmote.score(trainInput, trainOutput)\n",
    "    #modelScoreAdasyn = trainedModelAdasyn.score(trainInput, trainOutput)\n",
    "    \n",
    "    valScore = trainedModel.score(validationInput, validationOutput)\n",
    "    #valScoreRos = trainedModelRos.score(validationInput, validationOutput)\n",
    "    #valScoreSmote = trainedModelSmote.score(validationInput, validationOutput)\n",
    "    #valscoreAdasyn = trainedModelAdasyn.score(validationInput, validationOutput)\n",
    "    \n",
    "    print(name,\":\")\n",
    "    print(\"Orijinal: \", modelScore, \"Val - Orijinal: \", valScore)\n",
    "    print(\"Ros: \", modelScore, \"Val - Ros: \", valScore)\n",
    "    print(\"Smote: \", modelScore, \"Val - Smote: \", valScore)\n",
    "    print(\"Adasyn: \", modelScore, \"Val - Adasyn: \", valScore)\n",
    "    print(\"-----------------------------------------------------\")"
   ]
  },
  {
   "cell_type": "code",
   "execution_count": 19,
   "id": "419f96ab",
   "metadata": {},
   "outputs": [],
   "source": [
    "# İyi bir sonuç vermedi, validation değerleri hiç görmediği değerler olup eğitim verisiyle eğitimden\n",
    "# düşük bir sonuç üretir. "
   ]
  },
  {
   "cell_type": "code",
   "execution_count": 20,
   "id": "a9e8a13f",
   "metadata": {},
   "outputs": [],
   "source": [
    "# Dengesiz veri seti, farklı sınıflara ait örneklerin sayısal olarak büyük farklar gösterdiği bir\n",
    "# durumu ifade eder. Örneğin, bir sınıfın diğerine göre çok daha fazla örneği olabilir. \n",
    "# Dengesiz veri setleri sınıflandırma veya örüntü tanıma gibi makine öğrenimi uygulamalarında yaygın olarak karşılaşılır.\n",
    "# Dengesiz veri setleriyle başa çıkmak için birkaç yöntem vardır."
   ]
  },
  {
   "cell_type": "code",
   "execution_count": 21,
   "id": "94a0c380",
   "metadata": {},
   "outputs": [],
   "source": [
    "# Oversampling, verilerin dağılımı düzensiz olduğu zaman verilerin dağılımına müdahale etmemize olanak sağlayan bir yöntemdir.  \n",
    "# Verisi az olan etiketin verilerini random bir şekilde çoklayarak etiketlerdeki veri sayısını eşitliyoruz. \n",
    "# Undersampling ise verisi fazla olan etiketin verilerini random şekilde azaltma yöntemidir. \n",
    "# Buradaki amaç da aynı şekilde etiketlerdeki veri sayısını eşitlemektir. "
   ]
  },
  {
   "cell_type": "code",
   "execution_count": 22,
   "id": "3f3e3b73",
   "metadata": {},
   "outputs": [
    {
     "data": {
      "text/plain": [
       "'\\ntrainInput = smoteTrainInput\\ntrainedOutput = smoteTrainedOutput\\n'"
      ]
     },
     "execution_count": 22,
     "metadata": {},
     "output_type": "execute_result"
    }
   ],
   "source": [
    " \"\"\"\n",
    " trainInput = smoteTrainInput\n",
    " trainedOutput = smoteTrainedOutput\n",
    " \"\"\""
   ]
  },
  {
   "cell_type": "code",
   "execution_count": 23,
   "id": "62fd4ab0-ca68-4914-a978-d620f1e1e2b0",
   "metadata": {},
   "outputs": [],
   "source": [
    "# Kötü olan veri setine daha çok ağırlık verilmesi -> class weight"
   ]
  },
  {
   "cell_type": "code",
   "execution_count": 24,
   "id": "d49ae117-1352-4d43-91df-3f355052031a",
   "metadata": {},
   "outputs": [
    {
     "name": "stdout",
     "output_type": "stream",
     "text": [
      "[0. 1. 2.]\n"
     ]
    }
   ],
   "source": [
    "from sklearn.utils import class_weight\n",
    "print(np.unique(trainOutput))"
   ]
  },
  {
   "cell_type": "code",
   "execution_count": 25,
   "id": "3c632df4-f699-4e7e-b7fa-215430854d40",
   "metadata": {},
   "outputs": [
    {
     "data": {
      "text/plain": [
       "array([1.21072797, 0.88515406, 0.95757576])"
      ]
     },
     "execution_count": 25,
     "metadata": {},
     "output_type": "execute_result"
    }
   ],
   "source": [
    "weights = class_weight.compute_class_weight(class_weight = \"balanced\", classes = np.unique(trainOutput), y = trainOutput)\n",
    "weights"
   ]
  },
  {
   "cell_type": "code",
   "execution_count": 26,
   "id": "8f502581-50c4-4d04-9247-267232fea911",
   "metadata": {},
   "outputs": [
    {
     "data": {
      "text/plain": [
       "0.7151898734177216"
      ]
     },
     "execution_count": 26,
     "metadata": {},
     "output_type": "execute_result"
    }
   ],
   "source": [
    "from sklearn.svm import SVC\n",
    "svc = SVC(random_state = 1).fit(trainInput, trainOutput)\n",
    "svc.score(trainInput, trainOutput)"
   ]
  },
  {
   "cell_type": "code",
   "execution_count": 27,
   "id": "a4f49b9f-b25e-49ef-8a00-35a3196e8295",
   "metadata": {},
   "outputs": [
    {
     "data": {
      "text/plain": [
       "0.7183544303797469"
      ]
     },
     "execution_count": 27,
     "metadata": {},
     "output_type": "execute_result"
    }
   ],
   "source": [
    "weightedSVC = SVC(random_state = 1, class_weight = {0:1.23, 1:0.87, 2:0.95}).fit(trainInput, trainOutput)\n",
    "weightedSVC.score(trainInput, trainOutput)"
   ]
  },
  {
   "cell_type": "code",
   "execution_count": 28,
   "id": "fa767cc2-fd24-4ebf-8b20-19c0c662211a",
   "metadata": {},
   "outputs": [],
   "source": [
    "# Ağırlıklandırma ile daha iyileştirilmiş bir sonuç beklerken iyileşmiş bir sonuç gelmedi.\n",
    "# veri setinin az olması, özellik sayısının çok olmasından kaynaklanabilir."
   ]
  },
  {
   "cell_type": "code",
   "execution_count": 29,
   "id": "08a8ca7a-3217-4a5a-94a2-b6a0d7b9a37a",
   "metadata": {},
   "outputs": [],
   "source": [
    "# ******"
   ]
  },
  {
   "cell_type": "code",
   "execution_count": 30,
   "id": "c83eb7f0-4091-42ce-9aee-8d302be74375",
   "metadata": {},
   "outputs": [
    {
     "data": {
      "text/plain": [
       "0.7535014005602241"
      ]
     },
     "execution_count": 30,
     "metadata": {},
     "output_type": "execute_result"
    }
   ],
   "source": [
    "a = SVC().fit(smoteTrainInput, somteTrainOutput)\n",
    "a.score(smoteTrainInput, somteTrainOutput)\n",
    "#a.score(validationInput, validationOutput)"
   ]
  },
  {
   "cell_type": "code",
   "execution_count": 31,
   "id": "9ef7c0ce-b9d8-4a6a-b25c-52ffaa5c81d6",
   "metadata": {},
   "outputs": [
    {
     "name": "stderr",
     "output_type": "stream",
     "text": [
      "/Users/zeynepdemirtas/anaconda3/lib/python3.11/site-packages/sklearn/neural_network/_multilayer_perceptron.py:691: ConvergenceWarning: Stochastic Optimizer: Maximum iterations (200) reached and the optimization hasn't converged yet.\n",
      "  warnings.warn(\n"
     ]
    },
    {
     "data": {
      "text/plain": [
       "0.7436708860759493"
      ]
     },
     "execution_count": 31,
     "metadata": {},
     "output_type": "execute_result"
    }
   ],
   "source": [
    "b = MLPClassifier(random_state = 7).fit(smoteTrainInput, somteTrainOutput)\n",
    "b.score(trainInput, trainOutput)"
   ]
  },
  {
   "cell_type": "code",
   "execution_count": 32,
   "id": "17e7e774-da5a-4d77-a17c-5962862964d1",
   "metadata": {},
   "outputs": [],
   "source": [
    "# Özelliklerin sayısını arttırmak sonuca etki ettiğini görmüş olduk."
   ]
  },
  {
   "cell_type": "code",
   "execution_count": 33,
   "id": "aef48e69-67ea-4c1a-939a-c651169d6969",
   "metadata": {},
   "outputs": [],
   "source": [
    "# Şu an SMOTE ile veri üretilmiş durumda. Şimdi ise hyperparameter-operation yapacağız."
   ]
  },
  {
   "cell_type": "code",
   "execution_count": 34,
   "id": "231772e8-139d-4627-bea2-4eac8673dd6b",
   "metadata": {},
   "outputs": [
    {
     "data": {
      "text/plain": [
       "0.6946778711484594"
      ]
     },
     "execution_count": 34,
     "metadata": {},
     "output_type": "execute_result"
    }
   ],
   "source": [
    "a = SVC(kernel=\"rbf\", C=0.5).fit(smoteTrainInput, somteTrainOutput)\n",
    "a.score(smoteTrainInput, somteTrainOutput)"
   ]
  },
  {
   "cell_type": "code",
   "execution_count": 35,
   "id": "7be638b9-6536-4628-a84a-15f6ad738016",
   "metadata": {},
   "outputs": [
    {
     "data": {
      "text/plain": [
       "0.7535014005602241"
      ]
     },
     "execution_count": 35,
     "metadata": {},
     "output_type": "execute_result"
    }
   ],
   "source": [
    "a = SVC(kernel=\"rbf\", C=1.0).fit(smoteTrainInput, somteTrainOutput)\n",
    "a.score(smoteTrainInput, somteTrainOutput)"
   ]
  },
  {
   "cell_type": "code",
   "execution_count": 36,
   "id": "312e4079-2c4a-49e9-ae01-b69c17e1d0f7",
   "metadata": {},
   "outputs": [
    {
     "data": {
      "text/plain": [
       "0.773109243697479"
      ]
     },
     "execution_count": 36,
     "metadata": {},
     "output_type": "execute_result"
    }
   ],
   "source": [
    "a = SVC(kernel=\"rbf\", C=1.5).fit(smoteTrainInput, somteTrainOutput)\n",
    "a.score(smoteTrainInput, somteTrainOutput)"
   ]
  },
  {
   "cell_type": "code",
   "execution_count": 37,
   "id": "501962da-446a-4187-b01f-f7968899d058",
   "metadata": {},
   "outputs": [
    {
     "data": {
      "text/plain": [
       "1.0"
      ]
     },
     "execution_count": 37,
     "metadata": {},
     "output_type": "execute_result"
    }
   ],
   "source": [
    "a = SVC(kernel=\"rbf\", C=2000.0).fit(smoteTrainInput, somteTrainOutput)\n",
    "a.score(smoteTrainInput, somteTrainOutput)"
   ]
  },
  {
   "cell_type": "code",
   "execution_count": 38,
   "id": "bd21f1dd-bfeb-46f6-9239-4984c16b606e",
   "metadata": {},
   "outputs": [
    {
     "data": {
      "text/plain": [
       "0.5798319327731093"
      ]
     },
     "execution_count": 38,
     "metadata": {},
     "output_type": "execute_result"
    }
   ],
   "source": [
    "a = SVC(kernel=\"linear\", C=0.5).fit(smoteTrainInput, somteTrainOutput)\n",
    "a.score(smoteTrainInput, somteTrainOutput)"
   ]
  },
  {
   "cell_type": "code",
   "execution_count": 44,
   "id": "5d41b02b-6413-4b85-8378-8dcbc39785cb",
   "metadata": {},
   "outputs": [
    {
     "data": {
      "text/plain": [
       "0.7535014005602241"
      ]
     },
     "execution_count": 44,
     "metadata": {},
     "output_type": "execute_result"
    }
   ],
   "source": [
    "# GridSearch ile parametre seçimi\n",
    "\n",
    "from sklearn import svm\n",
    "from sklearn.model_selection import GridSearchCV\n",
    "\n",
    "parameters = {\"kernel\":(\"linear\", \"rbf\"), \"C\":[0.1, 1.0]}\n",
    "svc = svm.SVC()\n",
    "clf = GridSearchCV(svc, parameters)\n",
    "clf.fit(smoteTrainInput, somteTrainOutput)\n",
    "#sorted(clf.cv_results_.keys())\n",
    "clf.score(smoteTrainInput, somteTrainOutput)"
   ]
  },
  {
   "cell_type": "code",
   "execution_count": null,
   "id": "5fc4449d-2242-46ff-b60f-495bf64e1978",
   "metadata": {},
   "outputs": [],
   "source": []
  }
 ],
 "metadata": {
  "kernelspec": {
   "display_name": "Python 3 (ipykernel)",
   "language": "python",
   "name": "python3"
  },
  "language_info": {
   "codemirror_mode": {
    "name": "ipython",
    "version": 3
   },
   "file_extension": ".py",
   "mimetype": "text/x-python",
   "name": "python",
   "nbconvert_exporter": "python",
   "pygments_lexer": "ipython3",
   "version": "3.11.5"
  }
 },
 "nbformat": 4,
 "nbformat_minor": 5
}
